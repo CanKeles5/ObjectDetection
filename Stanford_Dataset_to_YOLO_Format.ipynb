{
  "nbformat": 4,
  "nbformat_minor": 0,
  "metadata": {
    "colab": {
      "name": "Stanford-Dataset-to-YOLO-Format.ipynb",
      "provenance": [],
      "collapsed_sections": [],
      "authorship_tag": "ABX9TyPblXDUIAFsml9LG4vZeO0G",
      "include_colab_link": true
    },
    "kernelspec": {
      "name": "python3",
      "display_name": "Python 3"
    }
  },
  "cells": [
    {
      "cell_type": "markdown",
      "metadata": {
        "id": "view-in-github",
        "colab_type": "text"
      },
      "source": [
        "<a href=\"https://colab.research.google.com/github/CanKeles5/ObjectDetection/blob/main/Stanford_Dataset_to_YOLO_Format.ipynb\" target=\"_parent\"><img src=\"https://colab.research.google.com/assets/colab-badge.svg\" alt=\"Open In Colab\"/></a>"
      ]
    },
    {
      "cell_type": "markdown",
      "metadata": {
        "id": "UzBM1KKiFGoQ"
      },
      "source": [
        "We did not include the lost images in our dataset."
      ]
    },
    {
      "cell_type": "code",
      "metadata": {
        "id": "dwaZZKyJ-yNn",
        "colab": {
          "base_uri": "https://localhost:8080/"
        },
        "outputId": "57699bac-a1b0-47e4-e065-a642166ab38f"
      },
      "source": [
        "from google.colab import drive\r\n",
        "drive.mount('/content/drive')"
      ],
      "execution_count": 1,
      "outputs": [
        {
          "output_type": "stream",
          "text": [
            "Mounted at /content/drive\n"
          ],
          "name": "stdout"
        }
      ]
    },
    {
      "cell_type": "code",
      "metadata": {
        "id": "N6OVvkUm_Ik2"
      },
      "source": [
        "import cv2\r\n",
        "import os"
      ],
      "execution_count": 2,
      "outputs": []
    },
    {
      "cell_type": "code",
      "metadata": {
        "id": "TfSNKFhMQQPu"
      },
      "source": [
        "frameCount = 508\r\n",
        "img_width = 1983\r\n",
        "img_height = 1088"
      ],
      "execution_count": 3,
      "outputs": []
    },
    {
      "cell_type": "markdown",
      "metadata": {
        "id": "K6GVzkIqcAMk"
      },
      "source": [
        "Create the dataset folder. The dataset folder contains train set and validation set."
      ]
    },
    {
      "cell_type": "code",
      "metadata": {
        "id": "cTgEMXIOb_wc"
      },
      "source": [
        "path_dataset = \"/content/dataset\"\r\n",
        "path_train = path_dataset + \"/train\"\r\n",
        "path_val = path_dataset + \"/val\"\r\n",
        "\r\n",
        "os.mkdir(path_dataset)\r\n",
        "os.mkdir(path_train)\r\n",
        "os.mkdir(path_val)"
      ],
      "execution_count": 4,
      "outputs": []
    },
    {
      "cell_type": "code",
      "metadata": {
        "id": "N_yx5dkgOz1H",
        "colab": {
          "base_uri": "https://localhost:8080/",
          "height": 69
        },
        "outputId": "9679295c-56fe-437b-ff7a-9a0ad239615d"
      },
      "source": [
        "'''\r\n",
        "path_labels = \"/content/labels\"\r\n",
        "\r\n",
        "try:\r\n",
        "  os.mkdir(path_labels)\r\n",
        "except OSError:\r\n",
        "  print (\"Creation of the directory %s failed\" % path_labels)\r\n",
        "else:\r\n",
        "  print (\"Successfully created the directory %s \" % path_labels)\r\n",
        "\r\n",
        "for i in range(frameCount):\r\n",
        "  open(path_labels + \"/label\" + str(i) + \".txt\", \"x\")\r\n",
        "'''"
      ],
      "execution_count": null,
      "outputs": [
        {
          "output_type": "execute_result",
          "data": {
            "application/vnd.google.colaboratory.intrinsic+json": {
              "type": "string"
            },
            "text/plain": [
              "'\\npath_labels = \"/content/labels\"\\n\\ntry:\\n  os.mkdir(path_labels)\\nexcept OSError:\\n  print (\"Creation of the directory %s failed\" % path_labels)\\nelse:\\n  print (\"Successfully created the directory %s \" % path_labels)\\n\\nfor i in range(frameCount):\\n  open(path_labels + \"/label\" + str(i) + \".txt\", \"x\")\\n'"
            ]
          },
          "metadata": {
            "tags": []
          },
          "execution_count": 5
        }
      ]
    },
    {
      "cell_type": "code",
      "metadata": {
        "id": "13ZD4XtC1J4n"
      },
      "source": [
        ""
      ],
      "execution_count": null,
      "outputs": []
    },
    {
      "cell_type": "code",
      "metadata": {
        "id": "jBJAtvb03abw",
        "colab": {
          "base_uri": "https://localhost:8080/"
        },
        "outputId": "b2bfe814-3b55-4abf-ab3e-10187393e733"
      },
      "source": [
        "'''\r\n",
        "path_images = \"/content/images\"\r\n",
        "\r\n",
        "try:\r\n",
        "  os.mkdir(path_images)\r\n",
        "except OSError:\r\n",
        "  print (\"Creation of the directory %s failed\" % path_images)\r\n",
        "else:\r\n",
        "  print (\"Successfully created the directory %s \" % path_images)\r\n",
        "'''"
      ],
      "execution_count": null,
      "outputs": [
        {
          "output_type": "stream",
          "text": [
            "Successfully created the directory /content/images \n"
          ],
          "name": "stdout"
        }
      ]
    },
    {
      "cell_type": "markdown",
      "metadata": {
        "id": "rIvmmfV9fCAe"
      },
      "source": [
        "Extract frames from video"
      ]
    },
    {
      "cell_type": "code",
      "metadata": {
        "id": "Q9spp6OigOZt"
      },
      "source": [
        "ratio = 8"
      ],
      "execution_count": 5,
      "outputs": []
    },
    {
      "cell_type": "code",
      "metadata": {
        "id": "FvfmBa112EZR"
      },
      "source": [
        "for i in range(frameCount):\r\n",
        "  if i % ratio == 0:\r\n",
        "    open(\"/content/dataset/val/label\" + str(i) + \".txt\", \"x\")\r\n",
        "  else:\r\n",
        "    open(\"/content/dataset/train/label\" + str(i) + \".txt\", \"x\")"
      ],
      "execution_count": 14,
      "outputs": []
    },
    {
      "cell_type": "code",
      "metadata": {
        "id": "ZCmTL79o_BD3"
      },
      "source": [
        "vidcap = cv2.VideoCapture('/content/drive/MyDrive/data-yolov5/videos/quad/video0/video.mov')\r\n",
        "success,image = vidcap.read()\r\n",
        "count = 0\r\n",
        "while success:\r\n",
        "  write_to = \"\"\r\n",
        "\r\n",
        "  if count % ratio == 0:\r\n",
        "    write_to = path_val + \"/frame\" + str(count) + \".jpg\"\r\n",
        "  else:\r\n",
        "    write_to = path_train + \"/frame\" + str(count) + \".jpg\"\r\n",
        "\r\n",
        "  cv2.imwrite(write_to, image)\r\n",
        "  #cv2.imwrite(path_images + \"/frame%d.jpg\" % count, image)     # save frame as JPEG file\r\n",
        "  success,image = vidcap.read()\r\n",
        "  #print('Read a new frame: ', success)\r\n",
        "  count += 1"
      ],
      "execution_count": 6,
      "outputs": []
    },
    {
      "cell_type": "code",
      "metadata": {
        "id": "KZrDO9_N_BBO"
      },
      "source": [
        "annot = open(\"/content/drive/MyDrive/data-yolov5/annotations/quad/video0/annotations.txt\",\"r\")"
      ],
      "execution_count": 7,
      "outputs": []
    },
    {
      "cell_type": "code",
      "metadata": {
        "id": "V5lmXlrC_A-T"
      },
      "source": [
        "# Python program to \r\n",
        "# demonstrate readline() \r\n",
        "\r\n",
        "# Using readline()\r\n",
        "count = 0\r\n",
        "  \r\n",
        "while True: \r\n",
        "    count += 1\r\n",
        "  \r\n",
        "    # Get next line from file \r\n",
        "    line = annot.readline() \r\n",
        "    # if line is empty \r\n",
        "    # end of file is reached \r\n",
        "    if not line: \r\n",
        "        break\r\n",
        "\r\n",
        "    _, x_min, y_min, x_max, y_max, frameNo, lost, _, _, className = line.split()\r\n",
        "    x_min = float(x_min)\r\n",
        "    y_min = float(y_min)\r\n",
        "    x_max = float(x_max)\r\n",
        "    y_max = float(y_max)\r\n",
        "    frameNo = int(frameNo)\r\n",
        "    lost = int(lost)\r\n",
        "\r\n",
        "    className = className.replace('\"', \"\")\r\n",
        "\r\n",
        "    classNo = -1\r\n",
        "\r\n",
        "    if className==\"Biker\":\r\n",
        "      classNo = 0\r\n",
        "    elif className==\"Pedestrian\":\r\n",
        "      classNo = 1\r\n",
        "    elif className==\"Skateboarder\":\r\n",
        "      classNo = 2\r\n",
        "    elif className==\"Cart\":\r\n",
        "      classNo = 3\r\n",
        "    elif className==\"Car\":\r\n",
        "      classNo = 4\r\n",
        "    elif className==\"Bus\":\r\n",
        "      classNo = 5\r\n",
        "\r\n",
        "    if lost==0:\r\n",
        "      bbox_width = x_max - x_min\r\n",
        "      bbox_height = y_max - y_min\r\n",
        "\r\n",
        "      m_x = (bbox_width / 2 + x_min)/img_width\r\n",
        "      m_y = (bbox_height / 2 + y_min)/img_height\r\n",
        "\r\n",
        "      bbox_width = (x_max - x_min)/img_width\r\n",
        "      bbox_height = (y_max - y_min)/img_height\r\n",
        "\r\n",
        "      if count % ratio == 0:\r\n",
        "        label_file = open(\"/content/dataset/val/label\" + str(frameNo) + \".txt\", \"a\")\r\n",
        "      else:\r\n",
        "        label_file = open(\"/content/dataset/train/label\" + str(frameNo) + \".txt\", \"a\")\r\n",
        "\r\n",
        "      label_file.write(str(classNo) + \" \" + str(m_x) + \" \" + str(m_y) + \" \" + str(bbox_width) + \" \" + str(bbox_height) + \"\\n\")\r\n",
        "\r\n",
        "      label_file.close()\r\n"
      ],
      "execution_count": 16,
      "outputs": []
    },
    {
      "cell_type": "code",
      "metadata": {
        "id": "U4-tduPC_A5C"
      },
      "source": [
        "annot.close()"
      ],
      "execution_count": 17,
      "outputs": []
    },
    {
      "cell_type": "code",
      "metadata": {
        "id": "V3NLxzi2_A2b"
      },
      "source": [
        ""
      ],
      "execution_count": null,
      "outputs": []
    },
    {
      "cell_type": "code",
      "metadata": {
        "id": "_deZ4h85_Az5"
      },
      "source": [
        ""
      ],
      "execution_count": null,
      "outputs": []
    }
  ]
}