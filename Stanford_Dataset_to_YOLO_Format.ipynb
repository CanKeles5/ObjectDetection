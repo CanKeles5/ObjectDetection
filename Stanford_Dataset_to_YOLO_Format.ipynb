{
  "nbformat": 4,
  "nbformat_minor": 0,
  "metadata": {
    "colab": {
      "name": "Stanford-Dataset-to-YOLO-Format.ipynb",
      "provenance": [],
      "collapsed_sections": [],
      "authorship_tag": "ABX9TyPLQ8An+WVWXgQHLaFRzihg",
      "include_colab_link": true
    },
    "kernelspec": {
      "name": "python3",
      "display_name": "Python 3"
    }
  },
  "cells": [
    {
      "cell_type": "markdown",
      "metadata": {
        "id": "view-in-github",
        "colab_type": "text"
      },
      "source": [
        "<a href=\"https://colab.research.google.com/github/CanKeles5/ObjectDetection/blob/main/Stanford_Dataset_to_YOLO_Format.ipynb\" target=\"_parent\"><img src=\"https://colab.research.google.com/assets/colab-badge.svg\" alt=\"Open In Colab\"/></a>"
      ]
    },
    {
      "cell_type": "code",
      "metadata": {
        "id": "dwaZZKyJ-yNn"
      },
      "source": [
        "from google.colab import drive\r\n",
        "drive.mount('/content/drive')"
      ],
      "execution_count": null,
      "outputs": []
    },
    {
      "cell_type": "code",
      "metadata": {
        "id": "N6OVvkUm_Ik2"
      },
      "source": [
        "import cv2"
      ],
      "execution_count": null,
      "outputs": []
    },
    {
      "cell_type": "code",
      "metadata": {
        "id": "ZCmTL79o_BD3"
      },
      "source": [
        "vidcap = cv2.VideoCapture('/content/drive/MyDrive/data-yolov5/videos/quad/video0/video.mov')\r\n",
        "success,image = vidcap.read()\r\n",
        "count = 0\r\n",
        "while success:\r\n",
        "  cv2.imwrite(\"frame%d.jpg\" % count, image)     # save frame as JPEG file      \r\n",
        "  success,image = vidcap.read()\r\n",
        "  print('Read a new frame: ', success)\r\n",
        "  count += 1"
      ],
      "execution_count": null,
      "outputs": []
    },
    {
      "cell_type": "code",
      "metadata": {
        "id": "TfSNKFhMQQPu"
      },
      "source": [
        "frameCount = 508"
      ],
      "execution_count": null,
      "outputs": []
    },
    {
      "cell_type": "code",
      "metadata": {
        "id": "N_yx5dkgOz1H"
      },
      "source": [
        "path_labels = \r\n",
        "\r\n",
        "try:\r\n",
        "  os.mkdir(path)\r\n",
        "except OSError:\r\n",
        "  print (\"Creation of the directory %s failed\" % path)\r\n",
        "else:\r\n",
        "  print (\"Successfully created the directory %s \" % path)\r\n",
        "\r\n",
        "for i in range(frameCount):\r\n",
        "\r\n"
      ],
      "execution_count": null,
      "outputs": []
    },
    {
      "cell_type": "code",
      "metadata": {
        "id": "KZrDO9_N_BBO"
      },
      "source": [
        "annot = open(\"/content/drive/MyDrive/data-yolov5/annotations/quad/video0/annotations.txt\",\"r\")"
      ],
      "execution_count": null,
      "outputs": []
    },
    {
      "cell_type": "code",
      "metadata": {
        "id": "V5lmXlrC_A-T"
      },
      "source": [
        "# Python program to \r\n",
        "# demonstrate readline() \r\n",
        "\r\n",
        "# Using readline()\r\n",
        "count = 0\r\n",
        "  \r\n",
        "while True: \r\n",
        "    count += 1\r\n",
        "  \r\n",
        "    # Get next line from file \r\n",
        "    line = annot.readline() \r\n",
        "    # if line is empty \r\n",
        "    # end of file is reached \r\n",
        "    if not line: \r\n",
        "        break\r\n",
        "\r\n",
        "    _, x_min, y_min, x_max, y_max, frameNo, lost, _, _, className = line.split()\r\n",
        "    x_min = int(x_min)\r\n",
        "    y_min = int(y_min)\r\n",
        "    x_max = int(x_max)\r\n",
        "    y_max = int(y_max)\r\n",
        "    frameNo = int(frameNo)\r\n",
        "    lost = int(lost)\r\n",
        "\r\n",
        "    if className==\"Bicyclist\":\r\n",
        "      classNo = 0\r\n",
        "    elif className==\"Pedestrian\":\r\n",
        "      classNo = 1\r\n",
        "    elif className==\"Skateboarder\":\r\n",
        "      classNo = 2\r\n",
        "    elif className==\"Cart\":\r\n",
        "      classNo = 3\r\n",
        "    elif className==\"Car\":\r\n",
        "      classNo = 4\r\n",
        "    elif className==\"Bus\":\r\n",
        "      classNo = 5\r\n",
        "\r\n",
        "    \r\n",
        "\r\n"
      ],
      "execution_count": null,
      "outputs": []
    },
    {
      "cell_type": "code",
      "metadata": {
        "id": "Ktsl2zRI_A7r"
      },
      "source": [
        ""
      ],
      "execution_count": null,
      "outputs": []
    },
    {
      "cell_type": "code",
      "metadata": {
        "id": "U4-tduPC_A5C"
      },
      "source": [
        ""
      ],
      "execution_count": null,
      "outputs": []
    },
    {
      "cell_type": "code",
      "metadata": {
        "id": "V3NLxzi2_A2b"
      },
      "source": [
        ""
      ],
      "execution_count": null,
      "outputs": []
    },
    {
      "cell_type": "code",
      "metadata": {
        "id": "_deZ4h85_Az5"
      },
      "source": [
        ""
      ],
      "execution_count": null,
      "outputs": []
    }
  ]
}