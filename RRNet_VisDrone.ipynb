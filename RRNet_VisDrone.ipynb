{
  "nbformat": 4,
  "nbformat_minor": 0,
  "metadata": {
    "colab": {
      "name": "RRNet-VisDrone.ipynb",
      "provenance": [],
      "collapsed_sections": []
    },
    "kernelspec": {
      "name": "python3",
      "display_name": "Python 3"
    },
    "accelerator": "GPU"
  },
  "cells": [
    {
      "cell_type": "code",
      "metadata": {
        "colab": {
          "base_uri": "https://localhost:8080/"
        },
        "id": "eyu7wKSKmM5-",
        "outputId": "a3449947-fa19-4320-cab6-175ca922d506"
      },
      "source": [
        "! git clone https://github.com/ouc-ocean-group/RRNet"
      ],
      "execution_count": 1,
      "outputs": [
        {
          "output_type": "stream",
          "text": [
            "Cloning into 'RRNet'...\n",
            "remote: Enumerating objects: 1859, done.\u001b[K\n",
            "remote: Counting objects: 100% (1859/1859), done.\u001b[K\n",
            "remote: Compressing objects: 100% (611/611), done.\u001b[K\n",
            "remote: Total 1859 (delta 1235), reused 1859 (delta 1235), pack-reused 0\u001b[K\n",
            "Receiving objects: 100% (1859/1859), 2.52 MiB | 32.24 MiB/s, done.\n",
            "Resolving deltas: 100% (1235/1235), done.\n"
          ],
          "name": "stdout"
        }
      ]
    },
    {
      "cell_type": "code",
      "metadata": {
        "id": "aY-o8IDS0ixC"
      },
      "source": [
        "import os"
      ],
      "execution_count": 16,
      "outputs": []
    },
    {
      "cell_type": "code",
      "metadata": {
        "colab": {
          "base_uri": "https://localhost:8080/"
        },
        "id": "DzYGE8UNmdS9",
        "outputId": "acbdf965-8f9b-4070-a76f-0cb3debb2dd4"
      },
      "source": [
        "from google.colab import drive\r\n",
        "drive.mount('/content/drive')"
      ],
      "execution_count": 2,
      "outputs": [
        {
          "output_type": "stream",
          "text": [
            "Mounted at /content/drive\n"
          ],
          "name": "stdout"
        }
      ]
    },
    {
      "cell_type": "code",
      "metadata": {
        "id": "yaSmBvIT0iBA"
      },
      "source": [
        "data_root = \"/content/RRNet/data_root\"\r\n",
        "os.mkdir(data_root)\r\n",
        "os.mkdir(data_root +\"/train\")\r\n",
        "os.mkdir(data_root+\"/val\")"
      ],
      "execution_count": 19,
      "outputs": []
    },
    {
      "cell_type": "code",
      "metadata": {
        "id": "CPut2_okn_mG"
      },
      "source": [
        "!unzip /content/drive/MyDrive/VisDrone2019-DET-train.zip -d /content/RRNet/data_root/train\r\n",
        "!unzip /content/drive/MyDrive/VisDrone2019-DET-val.zip -d /content/RRNet/data_root/val"
      ],
      "execution_count": null,
      "outputs": []
    },
    {
      "cell_type": "code",
      "metadata": {
        "id": "uNWPwyDfrZjn"
      },
      "source": [
        "import os\r\n",
        "working_dir = \"/content/RRNet\"\r\n",
        "os.chdir(working_dir)"
      ],
      "execution_count": 5,
      "outputs": []
    },
    {
      "cell_type": "code",
      "metadata": {
        "id": "al0eM4zRsNs4"
      },
      "source": [
        "! cd ext/nms && make && cd .."
      ],
      "execution_count": null,
      "outputs": []
    },
    {
      "cell_type": "code",
      "metadata": {
        "id": "7SMokSSPrhEP"
      },
      "source": [
        "! cp /content/RRNet/scripts/RRNet/train.py ./"
      ],
      "execution_count": 7,
      "outputs": []
    },
    {
      "cell_type": "code",
      "metadata": {
        "id": "cMghkFbRobcK"
      },
      "source": [
        "!python3 train.py"
      ],
      "execution_count": null,
      "outputs": []
    },
    {
      "cell_type": "code",
      "metadata": {
        "id": "FhxwLTKNuIrn"
      },
      "source": [
        ""
      ],
      "execution_count": null,
      "outputs": []
    }
  ]
}