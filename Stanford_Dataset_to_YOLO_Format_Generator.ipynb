{
  "nbformat": 4,
  "nbformat_minor": 0,
  "metadata": {
    "colab": {
      "name": "Stanford-Dataset-to-YOLO-Format-Generator.ipynb",
      "provenance": [],
      "collapsed_sections": [],
      "authorship_tag": "ABX9TyPzoHlJ8tmD7kczOLlGDtQD",
      "include_colab_link": true
    },
    "kernelspec": {
      "name": "python3",
      "display_name": "Python 3"
    }
  },
  "cells": [
    {
      "cell_type": "markdown",
      "metadata": {
        "id": "view-in-github",
        "colab_type": "text"
      },
      "source": [
        "<a href=\"https://colab.research.google.com/github/CanKeles5/ObjectDetection/blob/main/Stanford_Dataset_to_YOLO_Format_Generator.ipynb\" target=\"_parent\"><img src=\"https://colab.research.google.com/assets/colab-badge.svg\" alt=\"Open In Colab\"/></a>"
      ]
    },
    {
      "cell_type": "code",
      "metadata": {
        "id": "m4psZPeuiUlt",
        "colab": {
          "base_uri": "https://localhost:8080/"
        },
        "outputId": "a4290ab9-5e4b-4a08-ae81-fe4fd8f5fed0"
      },
      "source": [
        "from google.colab import drive\r\n",
        "drive.mount('/content/drive')"
      ],
      "execution_count": 1,
      "outputs": [
        {
          "output_type": "stream",
          "text": [
            "Mounted at /content/drive\n"
          ],
          "name": "stdout"
        }
      ]
    },
    {
      "cell_type": "code",
      "metadata": {
        "id": "Vumhk4A3l-_A"
      },
      "source": [
        "import os\r\n",
        "import cv2"
      ],
      "execution_count": 2,
      "outputs": []
    },
    {
      "cell_type": "code",
      "metadata": {
        "id": "D1HFMada31Lb"
      },
      "source": [
        "#create the dataset, train, val folders\r\n",
        "path_dataset = \"/content/dataset\"\r\n",
        "path_train = path_dataset + \"/train\"\r\n",
        "path_val = path_dataset + \"/val\"\r\n",
        "\r\n",
        "os.mkdir(path_dataset)\r\n",
        "os.mkdir(path_train)\r\n",
        "os.mkdir(path_val)"
      ],
      "execution_count": 3,
      "outputs": []
    },
    {
      "cell_type": "code",
      "metadata": {
        "id": "PIGNkBsLfwb1"
      },
      "source": [
        "img_width = 1983\r\n",
        "img_height = 1088"
      ],
      "execution_count": 20,
      "outputs": []
    },
    {
      "cell_type": "code",
      "metadata": {
        "id": "y6h14A5Zx3P3"
      },
      "source": [
        "dataset_size = 6000"
      ],
      "execution_count": 4,
      "outputs": []
    },
    {
      "cell_type": "code",
      "metadata": {
        "id": "3cupu3in5vON"
      },
      "source": [
        "split = 10"
      ],
      "execution_count": 5,
      "outputs": []
    },
    {
      "cell_type": "code",
      "metadata": {
        "id": "_HyjYUE2lkoJ"
      },
      "source": [
        "dataset_path = \"/content/drive/MyDrive/data-yolov5\""
      ],
      "execution_count": 6,
      "outputs": []
    },
    {
      "cell_type": "code",
      "metadata": {
        "id": "appqtQ4ll0QJ"
      },
      "source": [
        "'''\r\n",
        "for root, dirs, files in os.walk(dataset_path):\r\n",
        "    for filename in files:\r\n",
        "        print(filename)\r\n",
        "'''"
      ],
      "execution_count": null,
      "outputs": []
    },
    {
      "cell_type": "code",
      "metadata": {
        "id": "4MTm2-SAyKsp"
      },
      "source": [
        "video_count = 0"
      ],
      "execution_count": 13,
      "outputs": []
    },
    {
      "cell_type": "markdown",
      "metadata": {
        "id": "pW0GbFbGmctE"
      },
      "source": [
        "For every video in videos, open the corresponding annotations file"
      ]
    },
    {
      "cell_type": "code",
      "metadata": {
        "id": "z_HvXzThyBw4"
      },
      "source": [
        "for dirpath, dnames, fnames in os.walk(dataset_path + \"/videos\"):\r\n",
        "    #print(str(dirpath) + \" , \" + str(dnames) + \" , \" + str(fnames))\r\n",
        "    for f in fnames:\r\n",
        "        if f == 'video.mov':\r\n",
        "          video_count += 1"
      ],
      "execution_count": 14,
      "outputs": []
    },
    {
      "cell_type": "code",
      "metadata": {
        "colab": {
          "base_uri": "https://localhost:8080/"
        },
        "id": "2a0VKvfryMi5",
        "outputId": "3bda4659-b778-4b88-a677-bcb25332cd1f"
      },
      "source": [
        "print(\"Number of videos is: \" + str(video_count))"
      ],
      "execution_count": 15,
      "outputs": [
        {
          "output_type": "stream",
          "text": [
            "Number of videos is: 34\n"
          ],
          "name": "stdout"
        }
      ]
    },
    {
      "cell_type": "markdown",
      "metadata": {
        "id": "4L9Hf_SVydjF"
      },
      "source": [
        "**dataset_size/video_count** is the number of frames we will extract from each video"
      ]
    },
    {
      "cell_type": "code",
      "metadata": {
        "id": "mgDQl1EsyzVh"
      },
      "source": [
        "num_frames = int(dataset_size/video_count)"
      ],
      "execution_count": 10,
      "outputs": []
    },
    {
      "cell_type": "markdown",
      "metadata": {
        "id": "eWDJUPNyYoXo"
      },
      "source": [
        "Extract frames"
      ]
    },
    {
      "cell_type": "code",
      "metadata": {
        "colab": {
          "base_uri": "https://localhost:8080/",
          "height": 246
        },
        "id": "j9zwiqrql0NA",
        "outputId": "6d47d321-88eb-4e56-acc9-a8d8af4fb0d7"
      },
      "source": [
        "data_count = 0\r\n",
        "\r\n",
        "for dirpath, dnames, fnames in os.walk(dataset_path + \"/videos\"):\r\n",
        "    #print(str(dirpath) + \" , \" + str(dnames) + \" , \" + str(fnames))\r\n",
        "    for f in fnames:\r\n",
        "        if f == 'video.mov':\r\n",
        "          video_path = dirpath + \"/video.mov\"\r\n",
        "          annot_path = dirpath.replace(\"videos\", \"annotations\") + \"/annotations.txt\"\r\n",
        "\r\n",
        "          print(\"Processing video: \" + video_path)\r\n",
        "\r\n",
        "          ##### Process the video #####\r\n",
        "          vidcap = cv2.VideoCapture(video_path)\r\n",
        "          success, image = vidcap.read()\r\n",
        "\r\n",
        "          frame_count = int(vidcap.get(cv2.CAP_PROP_FRAME_COUNT))\r\n",
        "\r\n",
        "          count = 0\r\n",
        "\r\n",
        "          while success:\r\n",
        "            if count % int(frame_count/num_frames) == 0:\r\n",
        "              \r\n",
        "              write_to = \"\"\r\n",
        "              if data_count % split == 0:\r\n",
        "                write_to = \"/content/dataset/train\"\r\n",
        "              else:\r\n",
        "                write_to = \"/content/dataset/val\"\r\n",
        "              \r\n",
        "              cv2.imwrite(write_to + \"/frame\" + str(data_count) + \".jpg\", image)\r\n",
        "\r\n",
        "              #### Create annotation\r\n",
        "              annot_file = open(annot_path, \"r\")\r\n",
        "              new_annot = open(write_to + \"/label\" + str(data_count) + \".txt\", \"x\")\r\n",
        "\r\n",
        "              #Read the annotation line by line\r\n",
        "              while True:\r\n",
        "                line = annot_file.readline()\r\n",
        "\r\n",
        "                if not line:\r\n",
        "                  break\r\n",
        "\r\n",
        "                _, x_min, y_min, x_max, y_max, frameNo, lost, _, _, className = line.split()\r\n",
        "\r\n",
        "                frameNo = int(frameNo)\r\n",
        "                lost = int(lost)\r\n",
        "\r\n",
        "                if frameNo==count:\r\n",
        "                  x_min = float(x_min)\r\n",
        "                  y_min = float(y_min)\r\n",
        "                  x_max = float(x_max)\r\n",
        "                  y_max = float(y_max)\r\n",
        "\r\n",
        "                  className = className.replace('\"', \"\")\r\n",
        "\r\n",
        "                  classNo = -1\r\n",
        "\r\n",
        "                  if className==\"Biker\":\r\n",
        "                    classNo = 0\r\n",
        "                  elif className==\"Pedestrian\":\r\n",
        "                    classNo = 1\r\n",
        "                  elif className==\"Skater\":\r\n",
        "                    classNo = 2\r\n",
        "                  elif className==\"Cart\":\r\n",
        "                    classNo = 3\r\n",
        "                  elif className==\"Car\":\r\n",
        "                    classNo = 4\r\n",
        "                  elif className==\"Bus\":\r\n",
        "                    classNo = 5\r\n",
        "\r\n",
        "                  if lost==0:\r\n",
        "                    bbox_width = x_max - x_min\r\n",
        "                    bbox_height = y_max - y_min\r\n",
        "\r\n",
        "                    m_x = (bbox_width / 2 + x_min)/img_width\r\n",
        "                    m_y = (bbox_height / 2 + y_min)/img_height\r\n",
        "\r\n",
        "                    bbox_width = (x_max - x_min)/img_width\r\n",
        "                    bbox_height = (y_max - y_min)/img_height\r\n",
        "\r\n",
        "                    if data_count % split == 0:\r\n",
        "                      label_file = open(\"/content/dataset/val/label\" + str(data_count) + \".txt\", \"a\")\r\n",
        "                    else:\r\n",
        "                      label_file = open(\"/content/dataset/train/label\" + str(data_count) + \".txt\", \"a\")\r\n",
        "\r\n",
        "                    label_file.write(str(classNo) + \" \" + str(m_x) + \" \" + str(m_y) + \" \" + str(bbox_width) + \" \" + str(bbox_height) + \"\\n\")\r\n",
        "\r\n",
        "                    label_file.close()\r\n",
        "\r\n",
        "              annot_file.close()\r\n",
        "\r\n",
        "              data_count+=1\r\n",
        "\r\n",
        "              '''\r\n",
        "              if count % ratio == 0:\r\n",
        "                write_to = path_val + \"/frame\" + str(count) + \".jpg\"\r\n",
        "              else:\r\n",
        "                write_to = path_train + \"/frame\" + str(count) + \".jpg\"\r\n",
        "              \r\n",
        "              cv2.imwrite(write_to, image)\r\n",
        "              #cv2.imwrite(path_images + \"/frame%d.jpg\" % count, image)     # save frame as JPEG file\r\n",
        "              '''\r\n",
        "              '''\r\n",
        "              #print('Read a new frame: ', success)\r\n",
        "              '''\r\n",
        "            \r\n",
        "            success, image = vidcap.read()\r\n",
        "            count += 1\r\n",
        "          \r\n",
        "          #############################\r\n"
      ],
      "execution_count": 23,
      "outputs": [
        {
          "output_type": "stream",
          "text": [
            "Processing video: /content/drive/MyDrive/data-yolov5/videos/coupa/video3/video.mov\n"
          ],
          "name": "stdout"
        },
        {
          "output_type": "error",
          "ename": "KeyboardInterrupt",
          "evalue": "ignored",
          "traceback": [
            "\u001b[0;31m---------------------------------------------------------------------------\u001b[0m",
            "\u001b[0;31mKeyboardInterrupt\u001b[0m                         Traceback (most recent call last)",
            "\u001b[0;32m<ipython-input-23-2aa7d95513f7>\u001b[0m in \u001b[0;36m<module>\u001b[0;34m()\u001b[0m\n\u001b[1;32m    104\u001b[0m               '''\n\u001b[1;32m    105\u001b[0m \u001b[0;34m\u001b[0m\u001b[0m\n\u001b[0;32m--> 106\u001b[0;31m             \u001b[0msuccess\u001b[0m\u001b[0;34m,\u001b[0m \u001b[0mimage\u001b[0m \u001b[0;34m=\u001b[0m \u001b[0mvidcap\u001b[0m\u001b[0;34m.\u001b[0m\u001b[0mread\u001b[0m\u001b[0;34m(\u001b[0m\u001b[0;34m)\u001b[0m\u001b[0;34m\u001b[0m\u001b[0;34m\u001b[0m\u001b[0m\n\u001b[0m\u001b[1;32m    107\u001b[0m             \u001b[0mcount\u001b[0m \u001b[0;34m+=\u001b[0m \u001b[0;36m1\u001b[0m\u001b[0;34m\u001b[0m\u001b[0;34m\u001b[0m\u001b[0m\n\u001b[1;32m    108\u001b[0m \u001b[0;34m\u001b[0m\u001b[0m\n",
            "\u001b[0;31mKeyboardInterrupt\u001b[0m: "
          ]
        }
      ]
    },
    {
      "cell_type": "markdown",
      "metadata": {
        "id": "DbTyszZsYrFQ"
      },
      "source": [
        "Create annotations for each frame"
      ]
    },
    {
      "cell_type": "code",
      "metadata": {
        "id": "UZlIzW2Dl0KJ"
      },
      "source": [
        ""
      ],
      "execution_count": null,
      "outputs": []
    },
    {
      "cell_type": "code",
      "metadata": {
        "id": "mJkxWTWVl0HT"
      },
      "source": [
        ""
      ],
      "execution_count": null,
      "outputs": []
    },
    {
      "cell_type": "code",
      "metadata": {
        "id": "02mkns7Jl0EL"
      },
      "source": [
        ""
      ],
      "execution_count": null,
      "outputs": []
    },
    {
      "cell_type": "code",
      "metadata": {
        "id": "VXk6-_ixl0BE"
      },
      "source": [
        ""
      ],
      "execution_count": null,
      "outputs": []
    }
  ]
}