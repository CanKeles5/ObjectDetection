{
  "nbformat": 4,
  "nbformat_minor": 0,
  "metadata": {
    "colab": {
      "name": "Stanford-Dataset-to-YOLO-Format-Generator.ipynb",
      "provenance": [],
      "collapsed_sections": [],
      "authorship_tag": "ABX9TyMxLAlkNbI+QaxuFala2di2",
      "include_colab_link": true
    },
    "kernelspec": {
      "display_name": "Python 3",
      "name": "python3"
    }
  },
  "cells": [
    {
      "cell_type": "markdown",
      "metadata": {
        "id": "view-in-github",
        "colab_type": "text"
      },
      "source": [
        "<a href=\"https://colab.research.google.com/github/CanKeles5/ObjectDetection/blob/main/Stanford_Dataset_to_YOLO_Format_Generator.ipynb\" target=\"_parent\"><img src=\"https://colab.research.google.com/assets/colab-badge.svg\" alt=\"Open In Colab\"/></a>"
      ]
    },
    {
      "cell_type": "code",
      "metadata": {
        "colab": {
          "base_uri": "https://localhost:8080/"
        },
        "id": "m4psZPeuiUlt",
        "outputId": "673e3134-3280-41d1-f03a-12e3201ce4ac"
      },
      "source": [
        "from google.colab import drive\r\n",
        "drive.mount('/content/drive')"
      ],
      "execution_count": 1,
      "outputs": [
        {
          "output_type": "stream",
          "text": [
            "Mounted at /content/drive\n"
          ],
          "name": "stdout"
        }
      ]
    },
    {
      "cell_type": "code",
      "metadata": {
        "id": "Vumhk4A3l-_A"
      },
      "source": [
        "import os\r\n",
        "import cv2"
      ],
      "execution_count": 2,
      "outputs": []
    },
    {
      "cell_type": "code",
      "metadata": {
        "id": "D1HFMada31Lb"
      },
      "source": [
        "#create the dataset, train, val folders\r\n",
        "path_dataset = \"/content/dataset\"\r\n",
        "path_images = path_dataset + \"/images\"\r\n",
        "path_labels = path_dataset + \"/labels\"\r\n",
        "\r\n",
        "path_train = path_dataset + \"/train\"\r\n",
        "path_val = path_dataset + \"/val\"\r\n",
        "\r\n",
        "os.mkdir(path_dataset)\r\n",
        "os.mkdir(path_images)\r\n",
        "os.mkdir(path_labels)\r\n",
        "os.mkdir(path_images + \"/train\")\r\n",
        "os.mkdir(path_images + \"/val\")\r\n",
        "os.mkdir(path_labels + \"/train\")\r\n",
        "os.mkdir(path_labels + \"/val\")"
      ],
      "execution_count": 3,
      "outputs": []
    },
    {
      "cell_type": "code",
      "metadata": {
        "id": "y6h14A5Zx3P3"
      },
      "source": [
        "dataset_size = 12000"
      ],
      "execution_count": 4,
      "outputs": []
    },
    {
      "cell_type": "code",
      "metadata": {
        "id": "3cupu3in5vON"
      },
      "source": [
        "split = 5"
      ],
      "execution_count": 5,
      "outputs": []
    },
    {
      "cell_type": "code",
      "metadata": {
        "id": "_HyjYUE2lkoJ"
      },
      "source": [
        "dataset_path = \"/content/drive/MyDrive/data-yolov5\""
      ],
      "execution_count": 6,
      "outputs": []
    },
    {
      "cell_type": "code",
      "metadata": {
        "id": "4MTm2-SAyKsp"
      },
      "source": [
        "video_count = 0"
      ],
      "execution_count": 7,
      "outputs": []
    },
    {
      "cell_type": "markdown",
      "metadata": {
        "id": "pW0GbFbGmctE"
      },
      "source": [
        "For every video in videos, open the corresponding annotations file"
      ]
    },
    {
      "cell_type": "code",
      "metadata": {
        "id": "z_HvXzThyBw4"
      },
      "source": [
        "for dirpath, dnames, fnames in os.walk(dataset_path + \"/videos\"):\r\n",
        "    #print(str(dirpath) + \" , \" + str(dnames) + \" , \" + str(fnames))\r\n",
        "    for f in fnames:\r\n",
        "        if f == 'video.mov':\r\n",
        "          video_count += 1"
      ],
      "execution_count": 8,
      "outputs": []
    },
    {
      "cell_type": "code",
      "metadata": {
        "colab": {
          "base_uri": "https://localhost:8080/"
        },
        "id": "2a0VKvfryMi5",
        "outputId": "bcaa8f5e-d707-4a1f-ecf1-c95814fa5dc5"
      },
      "source": [
        "print(\"Number of videos is: \" + str(video_count))"
      ],
      "execution_count": 9,
      "outputs": [
        {
          "output_type": "stream",
          "text": [
            "Number of videos is: 33\n"
          ],
          "name": "stdout"
        }
      ]
    },
    {
      "cell_type": "markdown",
      "metadata": {
        "id": "4L9Hf_SVydjF"
      },
      "source": [
        "**dataset_size/video_count** is the number of frames we will extract from each video"
      ]
    },
    {
      "cell_type": "code",
      "metadata": {
        "id": "mgDQl1EsyzVh"
      },
      "source": [
        "num_frames = int(dataset_size/video_count)"
      ],
      "execution_count": 10,
      "outputs": []
    },
    {
      "cell_type": "code",
      "metadata": {
        "colab": {
          "base_uri": "https://localhost:8080/"
        },
        "id": "qWeUKZ6f4BCJ",
        "outputId": "9fe35275-a0e0-45d6-8755-a9fed70fa011"
      },
      "source": [
        "print(num_frames)"
      ],
      "execution_count": 11,
      "outputs": [
        {
          "output_type": "stream",
          "text": [
            "363\n"
          ],
          "name": "stdout"
        }
      ]
    },
    {
      "cell_type": "markdown",
      "metadata": {
        "id": "eWDJUPNyYoXo"
      },
      "source": [
        "Extract frames"
      ]
    },
    {
      "cell_type": "code",
      "metadata": {
        "id": "j9zwiqrql0NA"
      },
      "source": [
        "data_count = 0\r\n",
        "\r\n",
        "for dirpath, dnames, fnames in os.walk(dataset_path + \"/videos\"):\r\n",
        "    for f in fnames:\r\n",
        "        if f == 'video.mov':\r\n",
        "          video_path = dirpath + \"/video.mov\"\r\n",
        "          annot_path = dirpath.replace(\"videos\", \"annotations\") + \"/annotations.txt\"\r\n",
        "\r\n",
        "          print(\"Processing video: \" + video_path)\r\n",
        "\r\n",
        "          ##### Process the video #####\r\n",
        "          vidcap = cv2.VideoCapture(video_path)\r\n",
        "          success, image = vidcap.read()\r\n",
        "\r\n",
        "          frame_count = int(vidcap.get(cv2.CAP_PROP_FRAME_COUNT))\r\n",
        "\r\n",
        "          count = 0\r\n",
        "\r\n",
        "          while success:\r\n",
        "            if count % int(frame_count/num_frames) == 0:\r\n",
        "              \r\n",
        "              write_to = \"\"\r\n",
        "              if data_count % split == 0:\r\n",
        "                write_image_to = \"/content/dataset/images/val\"\r\n",
        "                new_annot = open(\"/content/dataset/labels/val/frame\" + str(data_count) + \".txt\", \"x\")\r\n",
        "              else:\r\n",
        "                write_image_to = \"/content/dataset/images/train\"\r\n",
        "                new_annot = open(\"/content/dataset/labels/train/frame\" + str(data_count) + \".txt\", \"x\")\r\n",
        "              \r\n",
        "              cv2.imwrite(write_image_to + \"/frame\" + str(data_count) + \".jpg\", image)\r\n",
        "\r\n",
        "              #### Create annotation\r\n",
        "              annot_file = open(annot_path, \"r\")\r\n",
        "              \r\n",
        "              #Read the annotation line by line\r\n",
        "              while True:\r\n",
        "                line = annot_file.readline()\r\n",
        "\r\n",
        "                if not line:\r\n",
        "                  break\r\n",
        "\r\n",
        "                _, x_min, y_min, x_max, y_max, frameNo, lost, _, _, className = line.split()\r\n",
        "\r\n",
        "                frameNo = int(frameNo)\r\n",
        "                \r\n",
        "                if frameNo==count:\r\n",
        "                  x_min = float(x_min)\r\n",
        "                  y_min = float(y_min)\r\n",
        "                  x_max = float(x_max)\r\n",
        "                  y_max = float(y_max)\r\n",
        "                  lost = int(lost)\r\n",
        "                  \r\n",
        "                  className = className.replace('\"', \"\")\r\n",
        "\r\n",
        "                  classNo = -1\r\n",
        "\r\n",
        "                  if className==\"Biker\":\r\n",
        "                    classNo = 0\r\n",
        "                  elif className==\"Pedestrian\":\r\n",
        "                    classNo = 1\r\n",
        "                  elif className==\"Skater\":\r\n",
        "                    classNo = 2\r\n",
        "                  elif className==\"Cart\":\r\n",
        "                    classNo = 3\r\n",
        "                  elif className==\"Car\":\r\n",
        "                    classNo = 4\r\n",
        "                  elif className==\"Bus\":\r\n",
        "                    classNo = 5\r\n",
        "\r\n",
        "                  if lost==0:\r\n",
        "                    img_height, img_width, _ = image.shape\r\n",
        "\r\n",
        "                    bbox_width = x_max - x_min\r\n",
        "                    bbox_height = y_max - y_min\r\n",
        "\r\n",
        "                    m_x = (bbox_width / 2 + x_min)/img_width\r\n",
        "                    m_y = (bbox_height / 2 + y_min)/img_height\r\n",
        "\r\n",
        "                    bbox_width = (x_max - x_min)/img_width\r\n",
        "                    bbox_height = (y_max - y_min)/img_height\r\n",
        "\r\n",
        "\r\n",
        "                    new_annot.write(str(classNo) + \" \" + str(m_x) + \" \" + str(m_y) + \" \" + str(bbox_width) + \" \" + str(bbox_height) + \"\\n\")\r\n",
        "              \r\n",
        "              new_annot.close()\r\n",
        "              annot_file.close()\r\n",
        "\r\n",
        "              data_count+=1\r\n",
        "            \r\n",
        "            success, image = vidcap.read()\r\n",
        "            count += 1\r\n",
        "          \r\n",
        "          #############################\r\n"
      ],
      "execution_count": null,
      "outputs": []
    },
    {
      "cell_type": "markdown",
      "metadata": {
        "id": "DbTyszZsYrFQ"
      },
      "source": [
        "Create annotations for each frame"
      ]
    },
    {
      "cell_type": "code",
      "metadata": {
        "id": "UZlIzW2Dl0KJ",
        "colab": {
          "base_uri": "https://localhost:8080/",
          "height": 35
        },
        "outputId": "5d44b438-d731-416f-98fb-d33555614d15"
      },
      "source": [
        "import shutil\r\n",
        "shutil.make_archive(\"dataset_1000\", 'zip', \"/content/dataset\")"
      ],
      "execution_count": null,
      "outputs": [
        {
          "output_type": "execute_result",
          "data": {
            "application/vnd.google.colaboratory.intrinsic+json": {
              "type": "string"
            },
            "text/plain": [
              "'/content/dataset_1000.zip'"
            ]
          },
          "metadata": {
            "tags": []
          },
          "execution_count": 15
        }
      ]
    },
    {
      "cell_type": "code",
      "metadata": {
        "id": "mJkxWTWVl0HT"
      },
      "source": [
        ""
      ],
      "execution_count": null,
      "outputs": []
    },
    {
      "cell_type": "code",
      "metadata": {
        "id": "02mkns7Jl0EL"
      },
      "source": [
        ""
      ],
      "execution_count": null,
      "outputs": []
    },
    {
      "cell_type": "code",
      "metadata": {
        "id": "VXk6-_ixl0BE"
      },
      "source": [
        ""
      ],
      "execution_count": null,
      "outputs": []
    }
  ]
}