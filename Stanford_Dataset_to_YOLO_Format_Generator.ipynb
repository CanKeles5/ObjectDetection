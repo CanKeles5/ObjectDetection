{
  "nbformat": 4,
  "nbformat_minor": 0,
  "metadata": {
    "colab": {
      "name": "Stanford-Dataset-to-YOLO-Format-Generator.ipynb",
      "provenance": [],
      "collapsed_sections": [],
      "authorship_tag": "ABX9TyOetUxE2nOj4+A8k6B7XnUs",
      "include_colab_link": true
    },
    "kernelspec": {
      "name": "python3",
      "display_name": "Python 3"
    }
  },
  "cells": [
    {
      "cell_type": "markdown",
      "metadata": {
        "id": "view-in-github",
        "colab_type": "text"
      },
      "source": [
        "<a href=\"https://colab.research.google.com/github/CanKeles5/ObjectDetection/blob/main/Stanford_Dataset_to_YOLO_Format_Generator.ipynb\" target=\"_parent\"><img src=\"https://colab.research.google.com/assets/colab-badge.svg\" alt=\"Open In Colab\"/></a>"
      ]
    },
    {
      "cell_type": "code",
      "metadata": {
        "id": "m4psZPeuiUlt",
        "colab": {
          "base_uri": "https://localhost:8080/"
        },
        "outputId": "a9d5a831-adf8-47a8-c51c-2ead578c630d"
      },
      "source": [
        "from google.colab import drive\r\n",
        "drive.mount('/content/drive')"
      ],
      "execution_count": 1,
      "outputs": [
        {
          "output_type": "stream",
          "text": [
            "Mounted at /content/drive\n"
          ],
          "name": "stdout"
        }
      ]
    },
    {
      "cell_type": "code",
      "metadata": {
        "id": "Vumhk4A3l-_A"
      },
      "source": [
        "import os\r\n",
        "import cv2"
      ],
      "execution_count": 2,
      "outputs": []
    },
    {
      "cell_type": "code",
      "metadata": {
        "id": "D1HFMada31Lb"
      },
      "source": [
        "#create the dataset, train, val folders\r\n",
        "path_dataset = \"/content/dataset\"\r\n",
        "path_train = path_dataset + \"/train\"\r\n",
        "path_val = path_dataset + \"/val\"\r\n",
        "\r\n",
        "os.mkdir(path_dataset)\r\n",
        "os.mkdir(path_train)\r\n",
        "os.mkdir(path_val)"
      ],
      "execution_count": 3,
      "outputs": []
    },
    {
      "cell_type": "code",
      "metadata": {
        "id": "y6h14A5Zx3P3"
      },
      "source": [
        "dataset_size = 6000"
      ],
      "execution_count": 4,
      "outputs": []
    },
    {
      "cell_type": "code",
      "metadata": {
        "id": "3cupu3in5vON"
      },
      "source": [
        "split = 10"
      ],
      "execution_count": 5,
      "outputs": []
    },
    {
      "cell_type": "code",
      "metadata": {
        "id": "_HyjYUE2lkoJ"
      },
      "source": [
        "dataset_path = \"/content/drive/MyDrive/data-yolov5\""
      ],
      "execution_count": 6,
      "outputs": []
    },
    {
      "cell_type": "code",
      "metadata": {
        "id": "appqtQ4ll0QJ"
      },
      "source": [
        "'''\r\n",
        "for root, dirs, files in os.walk(dataset_path):\r\n",
        "    for filename in files:\r\n",
        "        print(filename)\r\n",
        "'''"
      ],
      "execution_count": null,
      "outputs": []
    },
    {
      "cell_type": "code",
      "metadata": {
        "id": "4MTm2-SAyKsp"
      },
      "source": [
        "video_count = 0"
      ],
      "execution_count": 7,
      "outputs": []
    },
    {
      "cell_type": "markdown",
      "metadata": {
        "id": "pW0GbFbGmctE"
      },
      "source": [
        "For every video in videos, open the corresponding annotations file"
      ]
    },
    {
      "cell_type": "code",
      "metadata": {
        "id": "z_HvXzThyBw4"
      },
      "source": [
        "for dirpath, dnames, fnames in os.walk(dataset_path + \"/videos\"):\r\n",
        "    #print(str(dirpath) + \" , \" + str(dnames) + \" , \" + str(fnames))\r\n",
        "    for f in fnames:\r\n",
        "        if f == 'video.mov':\r\n",
        "          video_count += 1"
      ],
      "execution_count": 8,
      "outputs": []
    },
    {
      "cell_type": "code",
      "metadata": {
        "colab": {
          "base_uri": "https://localhost:8080/"
        },
        "id": "2a0VKvfryMi5",
        "outputId": "bc753095-ad6b-4673-f684-8838099cd165"
      },
      "source": [
        "print(\"Number of videos is: \" + str(video_count))"
      ],
      "execution_count": 9,
      "outputs": [
        {
          "output_type": "stream",
          "text": [
            "Number of videos is: 60\n"
          ],
          "name": "stdout"
        }
      ]
    },
    {
      "cell_type": "markdown",
      "metadata": {
        "id": "4L9Hf_SVydjF"
      },
      "source": [
        "**dataset_size/video_count** is the number of frames we will extract from each video"
      ]
    },
    {
      "cell_type": "code",
      "metadata": {
        "id": "mgDQl1EsyzVh"
      },
      "source": [
        "num_frames = int(dataset_size/video_count)"
      ],
      "execution_count": 10,
      "outputs": []
    },
    {
      "cell_type": "markdown",
      "metadata": {
        "id": "eWDJUPNyYoXo"
      },
      "source": [
        "Extract frames"
      ]
    },
    {
      "cell_type": "code",
      "metadata": {
        "colab": {
          "base_uri": "https://localhost:8080/"
        },
        "id": "j9zwiqrql0NA",
        "outputId": "4d59b9f5-464b-4bfd-cb30-22d200d89828"
      },
      "source": [
        "data_count = 0\r\n",
        "\r\n",
        "for dirpath, dnames, fnames in os.walk(dataset_path + \"/videos\"):\r\n",
        "    #print(str(dirpath) + \" , \" + str(dnames) + \" , \" + str(fnames))\r\n",
        "    for f in fnames:\r\n",
        "        if f == 'video.mov':\r\n",
        "          video_path = dirpath + \"/video.mov\"\r\n",
        "          annot_path = dirpath.replace(\"videos\", \"annotations\") + \"/annotations.txt\"\r\n",
        "\r\n",
        "          annot_file = open(annot_path, \"r\")\r\n",
        "\r\n",
        "          #print(annot_path)\r\n",
        "          #print(video_path)\r\n",
        "          print(\"Processing video: \" + video_path)\r\n",
        "\r\n",
        "          ##### Process the video #####\r\n",
        "          vidcap = cv2.VideoCapture(video_path)\r\n",
        "          success, image = vidcap.read()\r\n",
        "\r\n",
        "          frame_count = int(vidcap.get(cv2.CAP_PROP_FRAME_COUNT))\r\n",
        "\r\n",
        "          count = 0\r\n",
        "\r\n",
        "          while success:\r\n",
        "            if count % int(frame_count/num_frames) == 0:\r\n",
        "              \r\n",
        "              write_to = \"\"\r\n",
        "              if data_count % split == 0:\r\n",
        "                write_to = \"/content/dataset/train\"\r\n",
        "              else:\r\n",
        "                write_to = \"/content/dataset/val\"\r\n",
        "              \r\n",
        "              \r\n",
        "\r\n",
        "              cv2.imwrite(write_to + \"/frame\" + str(data_count) + \".jpg\", image)\r\n",
        "\r\n",
        "              #### Create annotation\r\n",
        "              new_annot = open(write_to + \"/label\" + str(data_count) + \".jpg\", \"x\")\r\n",
        "\r\n",
        "              \r\n",
        "\r\n",
        "              data_count+=1\r\n",
        "\r\n",
        "              #open() #create the corresponding annotation file for the frame\r\n",
        "\r\n",
        "              #curr_annot_file = open()\r\n",
        "\r\n",
        "              '''\r\n",
        "              if count % ratio == 0:\r\n",
        "                write_to = path_val + \"/frame\" + str(count) + \".jpg\"\r\n",
        "              else:\r\n",
        "                write_to = path_train + \"/frame\" + str(count) + \".jpg\"\r\n",
        "              \r\n",
        "              cv2.imwrite(write_to, image)\r\n",
        "              #cv2.imwrite(path_images + \"/frame%d.jpg\" % count, image)     # save frame as JPEG file\r\n",
        "              '''\r\n",
        "              '''\r\n",
        "              #print('Read a new frame: ', success)\r\n",
        "              '''\r\n",
        "\r\n",
        "            success, image = vidcap.read()\r\n",
        "            count += 1\r\n",
        "          \r\n",
        "          #############################\r\n"
      ],
      "execution_count": null,
      "outputs": [
        {
          "output_type": "stream",
          "text": [
            "Processing video: /content/drive/MyDrive/data-yolov5/videos/quad/video1/video.mov\n",
            "Processing video: /content/drive/MyDrive/data-yolov5/videos/quad/video3/video.mov\n",
            "Processing video: /content/drive/MyDrive/data-yolov5/videos/quad/video0/video.mov\n",
            "Processing video: /content/drive/MyDrive/data-yolov5/videos/quad/video2/video.mov\n",
            "Processing video: /content/drive/MyDrive/data-yolov5/videos/bookstore/video2/video.mov\n",
            "Processing video: /content/drive/MyDrive/data-yolov5/videos/bookstore/video0/video.mov\n",
            "Processing video: /content/drive/MyDrive/data-yolov5/videos/bookstore/video3/video.mov\n",
            "Processing video: /content/drive/MyDrive/data-yolov5/videos/bookstore/video4/video.mov\n",
            "Processing video: /content/drive/MyDrive/data-yolov5/videos/bookstore/video5/video.mov\n",
            "Processing video: /content/drive/MyDrive/data-yolov5/videos/bookstore/video1/video.mov\n",
            "Processing video: /content/drive/MyDrive/data-yolov5/videos/bookstore/video6/video.mov\n",
            "Processing video: /content/drive/MyDrive/data-yolov5/videos/hyang/video8/video.mov\n",
            "Processing video: /content/drive/MyDrive/data-yolov5/videos/hyang/video7/video.mov\n",
            "Processing video: /content/drive/MyDrive/data-yolov5/videos/hyang/video13/video.mov\n",
            "Processing video: /content/drive/MyDrive/data-yolov5/videos/hyang/video14/video.mov\n",
            "Processing video: /content/drive/MyDrive/data-yolov5/videos/hyang/video6/video.mov\n",
            "Processing video: /content/drive/MyDrive/data-yolov5/videos/hyang/video3/video.mov\n",
            "Processing video: /content/drive/MyDrive/data-yolov5/videos/hyang/video9/video.mov\n",
            "Processing video: /content/drive/MyDrive/data-yolov5/videos/hyang/video5/video.mov\n",
            "Processing video: /content/drive/MyDrive/data-yolov5/videos/hyang/video2/video.mov\n",
            "Processing video: /content/drive/MyDrive/data-yolov5/videos/hyang/video4/video.mov\n",
            "Processing video: /content/drive/MyDrive/data-yolov5/videos/hyang/video1/video.mov\n"
          ],
          "name": "stdout"
        }
      ]
    },
    {
      "cell_type": "markdown",
      "metadata": {
        "id": "DbTyszZsYrFQ"
      },
      "source": [
        "Create annotations for each frame"
      ]
    },
    {
      "cell_type": "code",
      "metadata": {
        "id": "UZlIzW2Dl0KJ"
      },
      "source": [
        ""
      ],
      "execution_count": null,
      "outputs": []
    },
    {
      "cell_type": "code",
      "metadata": {
        "id": "mJkxWTWVl0HT"
      },
      "source": [
        ""
      ],
      "execution_count": null,
      "outputs": []
    },
    {
      "cell_type": "code",
      "metadata": {
        "id": "02mkns7Jl0EL"
      },
      "source": [
        ""
      ],
      "execution_count": null,
      "outputs": []
    },
    {
      "cell_type": "code",
      "metadata": {
        "id": "VXk6-_ixl0BE"
      },
      "source": [
        ""
      ],
      "execution_count": null,
      "outputs": []
    }
  ]
}