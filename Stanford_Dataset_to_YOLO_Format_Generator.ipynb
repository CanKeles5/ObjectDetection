{
  "nbformat": 4,
  "nbformat_minor": 0,
  "metadata": {
    "colab": {
      "name": "Stanford-Dataset-to-YOLO-Format-Generator.ipynb",
      "provenance": [],
      "collapsed_sections": [],
      "authorship_tag": "ABX9TyOi9sdO8Cnt//qRZynx24vi",
      "include_colab_link": true
    },
    "kernelspec": {
      "display_name": "Python 3",
      "name": "python3"
    }
  },
  "cells": [
    {
      "cell_type": "markdown",
      "metadata": {
        "id": "view-in-github",
        "colab_type": "text"
      },
      "source": [
        "<a href=\"https://colab.research.google.com/github/CanKeles5/ObjectDetection/blob/main/Stanford_Dataset_to_YOLO_Format_Generator.ipynb\" target=\"_parent\"><img src=\"https://colab.research.google.com/assets/colab-badge.svg\" alt=\"Open In Colab\"/></a>"
      ]
    },
    {
      "cell_type": "code",
      "metadata": {
        "colab": {
          "base_uri": "https://localhost:8080/"
        },
        "id": "m4psZPeuiUlt",
        "outputId": "45d6179e-8c36-4521-e566-848243f6bf66"
      },
      "source": [
        "from google.colab import drive\r\n",
        "drive.mount('/content/drive')"
      ],
      "execution_count": 1,
      "outputs": [
        {
          "output_type": "stream",
          "text": [
            "Mounted at /content/drive\n"
          ],
          "name": "stdout"
        }
      ]
    },
    {
      "cell_type": "code",
      "metadata": {
        "id": "Vumhk4A3l-_A"
      },
      "source": [
        "import os\r\n",
        "import cv2"
      ],
      "execution_count": 2,
      "outputs": []
    },
    {
      "cell_type": "code",
      "metadata": {
        "id": "D1HFMada31Lb"
      },
      "source": [
        "#create the dataset, train, val folders\r\n",
        "path_dataset = \"/content/dataset\"\r\n",
        "path_images = path_dataset + \"/images\"\r\n",
        "path_labels = path_dataset + \"/labels\"\r\n",
        "\r\n",
        "path_train = path_dataset + \"/train\"\r\n",
        "path_val = path_dataset + \"/val\"\r\n",
        "\r\n",
        "os.mkdir(path_dataset)\r\n",
        "os.mkdir(path_images)\r\n",
        "os.mkdir(path_labels)\r\n",
        "os.mkdir(path_images + \"/train\")\r\n",
        "os.mkdir(path_images + \"/val\")\r\n",
        "os.mkdir(path_labels + \"/train\")\r\n",
        "os.mkdir(path_labels + \"/val\")"
      ],
      "execution_count": 3,
      "outputs": []
    },
    {
      "cell_type": "code",
      "metadata": {
        "id": "y6h14A5Zx3P3"
      },
      "source": [
        "dataset_size = 1000"
      ],
      "execution_count": 5,
      "outputs": []
    },
    {
      "cell_type": "code",
      "metadata": {
        "id": "3cupu3in5vON"
      },
      "source": [
        "split = 10"
      ],
      "execution_count": 6,
      "outputs": []
    },
    {
      "cell_type": "code",
      "metadata": {
        "id": "_HyjYUE2lkoJ"
      },
      "source": [
        "dataset_path = \"/content/drive/MyDrive/data-yolov5\""
      ],
      "execution_count": 7,
      "outputs": []
    },
    {
      "cell_type": "code",
      "metadata": {
        "id": "4MTm2-SAyKsp"
      },
      "source": [
        "video_count = 0"
      ],
      "execution_count": 9,
      "outputs": []
    },
    {
      "cell_type": "markdown",
      "metadata": {
        "id": "pW0GbFbGmctE"
      },
      "source": [
        "For every video in videos, open the corresponding annotations file"
      ]
    },
    {
      "cell_type": "code",
      "metadata": {
        "id": "z_HvXzThyBw4"
      },
      "source": [
        "for dirpath, dnames, fnames in os.walk(dataset_path + \"/videos\"):\r\n",
        "    #print(str(dirpath) + \" , \" + str(dnames) + \" , \" + str(fnames))\r\n",
        "    for f in fnames:\r\n",
        "        if f == 'video.mov':\r\n",
        "          video_count += 1"
      ],
      "execution_count": 10,
      "outputs": []
    },
    {
      "cell_type": "code",
      "metadata": {
        "colab": {
          "base_uri": "https://localhost:8080/"
        },
        "id": "2a0VKvfryMi5",
        "outputId": "c92e1a66-86dd-4f8e-8229-7069cb8d7230"
      },
      "source": [
        "print(\"Number of videos is: \" + str(video_count))"
      ],
      "execution_count": 11,
      "outputs": [
        {
          "output_type": "stream",
          "text": [
            "Number of videos is: 33\n"
          ],
          "name": "stdout"
        }
      ]
    },
    {
      "cell_type": "markdown",
      "metadata": {
        "id": "4L9Hf_SVydjF"
      },
      "source": [
        "**dataset_size/video_count** is the number of frames we will extract from each video"
      ]
    },
    {
      "cell_type": "code",
      "metadata": {
        "id": "mgDQl1EsyzVh"
      },
      "source": [
        "num_frames = int(dataset_size/video_count)"
      ],
      "execution_count": 12,
      "outputs": []
    },
    {
      "cell_type": "code",
      "metadata": {
        "colab": {
          "base_uri": "https://localhost:8080/"
        },
        "id": "qWeUKZ6f4BCJ",
        "outputId": "0175fe43-c369-4082-c688-18832211d121"
      },
      "source": [
        "print(num_frames)"
      ],
      "execution_count": 13,
      "outputs": [
        {
          "output_type": "stream",
          "text": [
            "30\n"
          ],
          "name": "stdout"
        }
      ]
    },
    {
      "cell_type": "markdown",
      "metadata": {
        "id": "eWDJUPNyYoXo"
      },
      "source": [
        "Extract frames"
      ]
    },
    {
      "cell_type": "code",
      "metadata": {
        "colab": {
          "base_uri": "https://localhost:8080/"
        },
        "id": "j9zwiqrql0NA",
        "outputId": "cc09c6bd-1080-419d-f1ba-ffce7909e82d"
      },
      "source": [
        "data_count = 0\r\n",
        "\r\n",
        "for dirpath, dnames, fnames in os.walk(dataset_path + \"/videos\"):\r\n",
        "    for f in fnames:\r\n",
        "        if f == 'video.mov':\r\n",
        "          video_path = dirpath + \"/video.mov\"\r\n",
        "          annot_path = dirpath.replace(\"videos\", \"annotations\") + \"/annotations.txt\"\r\n",
        "\r\n",
        "          print(\"Processing video: \" + video_path)\r\n",
        "\r\n",
        "          ##### Process the video #####\r\n",
        "          vidcap = cv2.VideoCapture(video_path)\r\n",
        "          success, image = vidcap.read()\r\n",
        "\r\n",
        "          frame_count = int(vidcap.get(cv2.CAP_PROP_FRAME_COUNT))\r\n",
        "\r\n",
        "          count = 0\r\n",
        "\r\n",
        "          while success:\r\n",
        "            if count % int(frame_count/num_frames) == 0:\r\n",
        "              \r\n",
        "              write_to = \"\"\r\n",
        "              if data_count % split == 0:\r\n",
        "                write_image_to = \"/content/dataset/images/val\"\r\n",
        "                new_annot = open(\"/content/dataset/labels/val/frame\" + str(data_count) + \".txt\", \"x\")\r\n",
        "              else:\r\n",
        "                write_image_to = \"/content/dataset/images/train\"\r\n",
        "                new_annot = open(\"/content/dataset/labels/train/frame\" + str(data_count) + \".txt\", \"x\")\r\n",
        "              \r\n",
        "              cv2.imwrite(write_image_to + \"/frame\" + str(data_count) + \".jpg\", image)\r\n",
        "\r\n",
        "              #### Create annotation\r\n",
        "              annot_file = open(annot_path, \"r\")\r\n",
        "              \r\n",
        "              #Read the annotation line by line\r\n",
        "              while True:\r\n",
        "                line = annot_file.readline()\r\n",
        "\r\n",
        "                if not line:\r\n",
        "                  break\r\n",
        "\r\n",
        "                _, x_min, y_min, x_max, y_max, frameNo, lost, _, _, className = line.split()\r\n",
        "\r\n",
        "                frameNo = int(frameNo)\r\n",
        "                \r\n",
        "                if frameNo==count:\r\n",
        "                  x_min = float(x_min)\r\n",
        "                  y_min = float(y_min)\r\n",
        "                  x_max = float(x_max)\r\n",
        "                  y_max = float(y_max)\r\n",
        "                  lost = int(lost)\r\n",
        "                  \r\n",
        "                  className = className.replace('\"', \"\")\r\n",
        "\r\n",
        "                  classNo = -1\r\n",
        "\r\n",
        "                  if className==\"Biker\":\r\n",
        "                    classNo = 0\r\n",
        "                  elif className==\"Pedestrian\":\r\n",
        "                    classNo = 1\r\n",
        "                  elif className==\"Skater\":\r\n",
        "                    classNo = 2\r\n",
        "                  elif className==\"Cart\":\r\n",
        "                    classNo = 3\r\n",
        "                  elif className==\"Car\":\r\n",
        "                    classNo = 4\r\n",
        "                  elif className==\"Bus\":\r\n",
        "                    classNo = 5\r\n",
        "\r\n",
        "                  if lost==0:\r\n",
        "                    img_height, img_width, _ = image.shape\r\n",
        "\r\n",
        "                    bbox_width = x_max - x_min\r\n",
        "                    bbox_height = y_max - y_min\r\n",
        "\r\n",
        "                    m_x = (bbox_width / 2 + x_min)/img_width\r\n",
        "                    m_y = (bbox_height / 2 + y_min)/img_height\r\n",
        "\r\n",
        "                    bbox_width = (x_max - x_min)/img_width\r\n",
        "                    bbox_height = (y_max - y_min)/img_height\r\n",
        "                    '''\r\n",
        "                    if data_count % split == 0:\r\n",
        "                      label_file = open(\"/content/dataset/val/label\" + str(data_count) + \".txt\", \"a\")\r\n",
        "                    else:\r\n",
        "                      label_file = open(\"/content/dataset/train/label\" + str(data_count) + \".txt\", \"a\")\r\n",
        "\r\n",
        "                    label_file.write(str(classNo) + \" \" + str(m_x) + \" \" + str(m_y) + \" \" + str(bbox_width) + \" \" + str(bbox_height) + \"\\n\")\r\n",
        "\r\n",
        "                    label_file.close()\r\n",
        "                    '''\r\n",
        "\r\n",
        "                    new_annot.write(str(classNo) + \" \" + str(m_x) + \" \" + str(m_y) + \" \" + str(bbox_width) + \" \" + str(bbox_height) + \"\\n\")\r\n",
        "              \r\n",
        "              new_annot.close()\r\n",
        "              annot_file.close()\r\n",
        "\r\n",
        "              data_count+=1\r\n",
        "\r\n",
        "              '''\r\n",
        "              if count % ratio == 0:\r\n",
        "                write_to = path_val + \"/frame\" + str(count) + \".jpg\"\r\n",
        "              else:\r\n",
        "                write_to = path_train + \"/frame\" + str(count) + \".jpg\"\r\n",
        "              \r\n",
        "              cv2.imwrite(write_to, image)\r\n",
        "              #cv2.imwrite(path_images + \"/frame%d.jpg\" % count, image)     # save frame as JPEG file\r\n",
        "              '''\r\n",
        "              '''\r\n",
        "              #print('Read a new frame: ', success)\r\n",
        "              '''\r\n",
        "            \r\n",
        "            success, image = vidcap.read()\r\n",
        "            count += 1\r\n",
        "          \r\n",
        "          #############################\r\n"
      ],
      "execution_count": 14,
      "outputs": [
        {
          "output_type": "stream",
          "text": [
            "Processing video: /content/drive/MyDrive/data-yolov5/videos/coupa/video3/video.mov\n",
            "Processing video: /content/drive/MyDrive/data-yolov5/videos/coupa/video1/video.mov\n",
            "Processing video: /content/drive/MyDrive/data-yolov5/videos/coupa/video0/video.mov\n",
            "Processing video: /content/drive/MyDrive/data-yolov5/videos/deathCircle/video2/video.mov\n",
            "Processing video: /content/drive/MyDrive/data-yolov5/videos/deathCircle/video0/video.mov\n",
            "Processing video: /content/drive/MyDrive/data-yolov5/videos/deathCircle/video1/video.mov\n",
            "Processing video: /content/drive/MyDrive/data-yolov5/videos/deathCircle/video3/video.mov\n",
            "Processing video: /content/drive/MyDrive/data-yolov5/videos/deathCircle/video4/video.mov\n",
            "Processing video: /content/drive/MyDrive/data-yolov5/videos/gates/video7/video.mov\n",
            "Processing video: /content/drive/MyDrive/data-yolov5/videos/gates/video5/video.mov\n",
            "Processing video: /content/drive/MyDrive/data-yolov5/videos/gates/video6/video.mov\n",
            "Processing video: /content/drive/MyDrive/data-yolov5/videos/gates/video8/video.mov\n",
            "Processing video: /content/drive/MyDrive/data-yolov5/videos/gates/video4/video.mov\n",
            "Processing video: /content/drive/MyDrive/data-yolov5/videos/gates/video0/video.mov\n",
            "Processing video: /content/drive/MyDrive/data-yolov5/videos/gates/video1/video.mov\n",
            "Processing video: /content/drive/MyDrive/data-yolov5/videos/gates/video2/video.mov\n",
            "Processing video: /content/drive/MyDrive/data-yolov5/videos/gates/video3/video.mov\n",
            "Processing video: /content/drive/MyDrive/data-yolov5/videos/little/video3/video.mov\n",
            "Processing video: /content/drive/MyDrive/data-yolov5/videos/little/video1/video.mov\n",
            "Processing video: /content/drive/MyDrive/data-yolov5/videos/little/video2/video.mov\n",
            "Processing video: /content/drive/MyDrive/data-yolov5/videos/little/video0/video.mov\n",
            "Processing video: /content/drive/MyDrive/data-yolov5/videos/nexus/video8/video.mov\n",
            "Processing video: /content/drive/MyDrive/data-yolov5/videos/nexus/video4/video.mov\n",
            "Processing video: /content/drive/MyDrive/data-yolov5/videos/nexus/video5/video.mov\n",
            "Processing video: /content/drive/MyDrive/data-yolov5/videos/nexus/video6/video.mov\n",
            "Processing video: /content/drive/MyDrive/data-yolov5/videos/nexus/video7/video.mov\n",
            "Processing video: /content/drive/MyDrive/data-yolov5/videos/nexus/video9/video.mov\n",
            "Processing video: /content/drive/MyDrive/data-yolov5/videos/nexus/video3/video.mov\n",
            "Processing video: /content/drive/MyDrive/data-yolov5/videos/nexus/video11/video.mov\n",
            "Processing video: /content/drive/MyDrive/data-yolov5/videos/nexus/video0/video.mov\n",
            "Processing video: /content/drive/MyDrive/data-yolov5/videos/nexus/video2/video.mov\n",
            "Processing video: /content/drive/MyDrive/data-yolov5/videos/nexus/video1/video.mov\n",
            "Processing video: /content/drive/MyDrive/data-yolov5/videos/nexus/video10/video.mov\n"
          ],
          "name": "stdout"
        }
      ]
    },
    {
      "cell_type": "markdown",
      "metadata": {
        "id": "DbTyszZsYrFQ"
      },
      "source": [
        "Create annotations for each frame"
      ]
    },
    {
      "cell_type": "code",
      "metadata": {
        "id": "UZlIzW2Dl0KJ",
        "colab": {
          "base_uri": "https://localhost:8080/",
          "height": 35
        },
        "outputId": "5d44b438-d731-416f-98fb-d33555614d15"
      },
      "source": [
        "import shutil\r\n",
        "shutil.make_archive(\"dataset_1000\", 'zip', \"/content/dataset\")"
      ],
      "execution_count": 15,
      "outputs": [
        {
          "output_type": "execute_result",
          "data": {
            "application/vnd.google.colaboratory.intrinsic+json": {
              "type": "string"
            },
            "text/plain": [
              "'/content/dataset_1000.zip'"
            ]
          },
          "metadata": {
            "tags": []
          },
          "execution_count": 15
        }
      ]
    },
    {
      "cell_type": "code",
      "metadata": {
        "id": "mJkxWTWVl0HT"
      },
      "source": [
        ""
      ],
      "execution_count": null,
      "outputs": []
    },
    {
      "cell_type": "code",
      "metadata": {
        "id": "02mkns7Jl0EL"
      },
      "source": [
        ""
      ],
      "execution_count": null,
      "outputs": []
    },
    {
      "cell_type": "code",
      "metadata": {
        "id": "VXk6-_ixl0BE"
      },
      "source": [
        ""
      ],
      "execution_count": null,
      "outputs": []
    }
  ]
}